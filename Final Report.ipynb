{
 "cells": [
  {
   "cell_type": "markdown",
   "metadata": {},
   "source": [
    "# <center> Final Report </center>\n",
    "### <center>Choosing a Gym in Taipei City </center>"
   ]
  },
  {
   "cell_type": "markdown",
   "metadata": {},
   "source": [
    "## Introduction"
   ]
  },
  {
   "cell_type": "markdown",
   "metadata": {},
   "source": [
    "As the trend of people working out is gradually increasing in Taiwan, people find gyms more important than ever. Therefore, Gyms are now in high demand as people are rushing into the weight-lifting world.\n",
    "\n",
    "This project aims to target gyms across the city of Taipei and helps customers to choose which gym to go to depending on the district they are living in. This project is focusing primarily on the distance aspect instead of gym ratings and equipment. One of the largest reasons is that people are lazy, so choosing a closer gym makes a person more willing to work out each day.\n",
    "\n",
    "The result from this project is going to display most gyms in Taipei city, and the district the gyms are located in. From the result, a person can easily see how many gyms are located near his or her home, and which one is the nearest.\n"
   ]
  },
  {
   "cell_type": "markdown",
   "metadata": {},
   "source": [
    "## Data"
   ]
  },
  {
   "cell_type": "markdown",
   "metadata": {},
   "source": [
    "#### These are the data involved in this project:\n",
    "1. Coordinates of each districts in Taipei City\n",
    "    - From wikipedia\n",
    "    - Manually organized them into a excel spreadsheet\n",
    "2. Foursquare API to locate the gyms in Taipei\n",
    "    - Coordinates of each gym\n",
    "    - Names of each gym\n",
    "    - Display the gyms on a map using folium"
   ]
  },
  {
   "cell_type": "markdown",
   "metadata": {},
   "source": [
    "The original excel spreadsheet as a dataframe is shown below:"
   ]
  },
  {
   "attachments": {},
   "cell_type": "markdown",
   "metadata": {},
   "source": [
    "<img src = 'image/df.jpg'>"
   ]
  },
  {
   "cell_type": "markdown",
   "metadata": {},
   "source": [
    "## Methodology"
   ]
  },
  {
   "cell_type": "markdown",
   "metadata": {},
   "source": [
    "### Get location of Gyms using for loop"
   ]
  },
  {
   "cell_type": "markdown",
   "metadata": {},
   "source": [
    "In order to retrieve the gym locations in each district using the Foursquare API, I built a for loop that calls the Foursquare API once using each district's coordinates"
   ]
  },
  {
   "cell_type": "markdown",
   "metadata": {},
   "source": [
    "<img src=\"image/loop.jpg\">"
   ]
  },
  {
   "cell_type": "markdown",
   "metadata": {},
   "source": [
    "As you can see, by setting the search query to \"gym\", the Foursquare API only retrieves relevant locations within the set range."
   ]
  },
  {
   "cell_type": "markdown",
   "metadata": {},
   "source": [
    "In the for loop, after the url is generated, I then further filter out only the relevant information such as names and coordinates of each gym."
   ]
  },
  {
   "cell_type": "markdown",
   "metadata": {},
   "source": [
    "Finally in the for loop, I retrieve the number of gyms in each district, so that I could better understand the scenario in each district."
   ]
  },
  {
   "cell_type": "markdown",
   "metadata": {},
   "source": [
    "### Maps out all the Gyms"
   ]
  },
  {
   "cell_type": "markdown",
   "metadata": {},
   "source": [
    "After getting the location of gyms in Taipei, I then use folium to map out and label all of them."
   ]
  },
  {
   "cell_type": "markdown",
   "metadata": {},
   "source": [
    "I set the starting location to be the center of Taipei City, and I use another for loop to label each gym."
   ]
  },
  {
   "cell_type": "markdown",
   "metadata": {},
   "source": [
    "<img src='image/map_code.jpg'>"
   ]
  },
  {
   "cell_type": "markdown",
   "metadata": {},
   "source": [
    "### How many gyms are in each District?"
   ]
  },
  {
   "cell_type": "markdown",
   "metadata": {},
   "source": [
    "From the output above, we now know how many gyms are located in each district given a certain range. We then add a column to the original df dataframe to show the number of gyms in each district."
   ]
  },
  {
   "cell_type": "markdown",
   "metadata": {},
   "source": [
    "<img src='image/df_gyms.jpg'>"
   ]
  },
  {
   "cell_type": "markdown",
   "metadata": {},
   "source": [
    "Now, we have the data, so we want to visualize the data for a better comparison."
   ]
  },
  {
   "cell_type": "markdown",
   "metadata": {},
   "source": [
    "We'll use this piece of code below to draw a bar chart visualizing the number of gyms in each district."
   ]
  },
  {
   "cell_type": "markdown",
   "metadata": {},
   "source": [
    "<img src='image/bar_code.jpg'>"
   ]
  },
  {
   "cell_type": "markdown",
   "metadata": {},
   "source": [
    "## Results"
   ]
  },
  {
   "cell_type": "markdown",
   "metadata": {},
   "source": [
    "From the for loop, I generated a dataframe that consists the gym locations and the number of gyms in each district."
   ]
  },
  {
   "cell_type": "markdown",
   "metadata": {},
   "source": [
    "<img src='image/all_gyms.jpg'>"
   ]
  },
  {
   "cell_type": "markdown",
   "metadata": {},
   "source": [
    "<img src='image/gym_count.jpg'>"
   ]
  },
  {
   "cell_type": "markdown",
   "metadata": {},
   "source": [
    "Remember, I then generated a folium map to label out all the gyms I found."
   ]
  },
  {
   "cell_type": "markdown",
   "metadata": {},
   "source": [
    "<img src='image/map.jpg'>"
   ]
  },
  {
   "cell_type": "markdown",
   "metadata": {},
   "source": [
    "Of course, the map is interactive. So you are able to zoom into where you like and click on a label to see the name of that gym."
   ]
  },
  {
   "cell_type": "markdown",
   "metadata": {},
   "source": [
    "<img src='image/map1.jpg'>"
   ]
  },
  {
   "cell_type": "markdown",
   "metadata": {},
   "source": [
    "Using the results from the for loop above, we then add a column to display number of gyms in each district"
   ]
  },
  {
   "cell_type": "markdown",
   "metadata": {},
   "source": [
    "<img src='image/df_gyms.jpg'>"
   ]
  },
  {
   "cell_type": "markdown",
   "metadata": {},
   "source": [
    "From the dataframe above, we can now visualize the number for better understanding and comparison."
   ]
  },
  {
   "cell_type": "markdown",
   "metadata": {},
   "source": [
    "<img src='image/bar.jpg'>"
   ]
  },
  {
   "cell_type": "markdown",
   "metadata": {},
   "source": [
    "Now we know which districts have more gyms and which have less, so if you are moving to Taipei, this can be one of your factors to consider."
   ]
  },
  {
   "cell_type": "markdown",
   "metadata": {},
   "source": [
    "If you are already a resident of Taipei, you can use the interactive folium map to locate the nearest gym."
   ]
  },
  {
   "cell_type": "markdown",
   "metadata": {},
   "source": [
    "## Discussion"
   ]
  },
  {
   "cell_type": "markdown",
   "metadata": {},
   "source": [
    "Given the number of Foursquare API calls we can do per day, I have decided to retrieve only the gyms within the 1.5km radius from the district center. The main point here is to help weight-lifters to find the closest gym possible.\n",
    "\n",
    "Here, I assume people are living / going to live at the district center and provides a wide variety of options within a 10-15min walk."
   ]
  },
  {
   "cell_type": "markdown",
   "metadata": {},
   "source": [
    "---\n",
    "Looking at the graphs and tables above, there is one conclusion we could draw: With one of the fewest population, Zhongzheng district has one of the highest number of gyms within the range. It means that fewer people are going to each gym, which may increase the quality of your work out.\n",
    "\n",
    "Therefore, for people looking to move to Taipei, Zhongzheng district is a great choice if you lift weights often. "
   ]
  },
  {
   "cell_type": "markdown",
   "metadata": {},
   "source": [
    "## Conclusion"
   ]
  },
  {
   "cell_type": "markdown",
   "metadata": {},
   "source": [
    "In this report, I've gathered information regarding coordinates of Taipei's districts and used the Foursquare API to retrieve a certain category of locations. I have further discovered that Zhongzheng district is one of the best places in Taipei when you want to work out. For people living in Taipei, regardless which district they are living in, I have suggested gyms within a 10-15 minute walk. They could find the closest gym from the list. On the other hand, for gym-goers who are looking to move to this city in the future, I have generated a list of gyms for them to make their own decisions. "
   ]
  }
 ],
 "metadata": {
  "kernelspec": {
   "display_name": "Python 3",
   "language": "python",
   "name": "python3"
  },
  "language_info": {
   "codemirror_mode": {
    "name": "ipython",
    "version": 3
   },
   "file_extension": ".py",
   "mimetype": "text/x-python",
   "name": "python",
   "nbconvert_exporter": "python",
   "pygments_lexer": "ipython3",
   "version": "3.7.4"
  }
 },
 "nbformat": 4,
 "nbformat_minor": 2
}
