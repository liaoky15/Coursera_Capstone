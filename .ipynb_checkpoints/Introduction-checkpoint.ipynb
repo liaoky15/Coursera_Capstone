{
 "cells": [
  {
   "cell_type": "markdown",
   "metadata": {},
   "source": [
    "# Introduction/Business Problem"
   ]
  },
  {
   "cell_type": "markdown",
   "metadata": {},
   "source": [
    "As the trend of people working out is gradually increasing in Taiwan, people find gyms more important than ever. Therefore, Gyms are now in high demand as people are rushing into the weight-lifting world.\n",
    "\n",
    "This project aims to target gyms across the city of Taipei and helps customers to choose which gym to go to depending on the district they are living in. This project is focusing primarily on the distance aspect instead of gym ratings and equipments. One of the largest reasons is that people are lazy, so choosing a closer gym makes a person more willing to work out each day.\n",
    "\n",
    "The result from this project is going to display most gyms in Taipei city, and the district the gyms are located in. From the result, a person can easily see how many gyms are located near his or her home, and which one is the nearest."
   ]
  }
 ],
 "metadata": {
  "kernelspec": {
   "display_name": "Python 3",
   "language": "python",
   "name": "python3"
  },
  "language_info": {
   "codemirror_mode": {
    "name": "ipython",
    "version": 3
   },
   "file_extension": ".py",
   "mimetype": "text/x-python",
   "name": "python",
   "nbconvert_exporter": "python",
   "pygments_lexer": "ipython3",
   "version": "3.7.4"
  }
 },
 "nbformat": 4,
 "nbformat_minor": 2
}
